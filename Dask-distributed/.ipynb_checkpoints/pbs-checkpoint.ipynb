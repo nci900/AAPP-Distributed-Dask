{
 "cells": [
  {
   "cell_type": "code",
   "execution_count": null,
   "id": "6b0e6e23",
   "metadata": {},
   "outputs": [],
   "source": [
    "import dask.distributed as dd\n",
    "from dask.distributed import Client, LocalCluster, progress\n",
    "from dask_jobqueue import PBSCluster\n",
    "from distributed.utils import tmpfile\n",
    "from dask.distributed import get_worker\n",
    "import os"
   ]
  },
  {
   "cell_type": "code",
   "execution_count": null,
   "id": "9da59131-ad46-4c3e-9a31-a32cba3e3356",
   "metadata": {},
   "outputs": [],
   "source": [
    "import os\n",
    "# The jupyter notebook is launched from your $HOME directory.\n",
    "# Change the working directory to the workshop directory\n",
    "# which was created in your username directory under /scratch/vp91\n",
    "os.chdir(os.path.expandvars(\"/scratch/vp91/$USER/\"))"
   ]
  },
  {
   "cell_type": "code",
   "execution_count": null,
   "id": "1276d02c",
   "metadata": {},
   "outputs": [],
   "source": [
    "os.environ['DASK_PYTHON'] = '/scratch/vp91/Training/python3.9-venv/bin/python3'\n",
    "setup_commands = [\"module load python3/3.9.2\", \"source /scratch/vp91/Training/python3.9-venv/bin/activate\"]\n",
    "extra = ['-q normal',\n",
    "         '-P vp91', \n",
    "         '-l ncpus=48', \n",
    "         '-l mem=192GB']\n",
    "\n",
    "cluster = PBSCluster(walltime=\"00:50:00\", \n",
    "                     cores=48, \n",
    "                     memory=\"192GB\",\n",
    "                     #processes=48, \n",
    "                     shebang='#!/usr/bin/env bash',\n",
    "                     job_extra_directives=extra, \n",
    "                     local_directory='$TMPDIR', \n",
    "                     job_directives_skip=[\"select\"], \n",
    "                     interface=\"ib0\",\n",
    "                     job_script_prologue=setup_commands,\n",
    "                     python=os.environ[\"DASK_PYTHON\"])"
   ]
  },
  {
   "cell_type": "code",
   "execution_count": null,
   "id": "8dd5841c",
   "metadata": {},
   "outputs": [],
   "source": [
    "print(cluster.job_script())"
   ]
  },
  {
   "cell_type": "code",
   "execution_count": null,
   "id": "a1811896",
   "metadata": {},
   "outputs": [],
   "source": [
    "cluster.scale(jobs=2)"
   ]
  },
  {
   "cell_type": "code",
   "execution_count": null,
   "id": "b23e573c",
   "metadata": {},
   "outputs": [],
   "source": [
    "cluster"
   ]
  },
  {
   "cell_type": "code",
   "execution_count": null,
   "id": "3f91dd84",
   "metadata": {},
   "outputs": [],
   "source": [
    "client = Client(cluster)"
   ]
  },
  {
   "cell_type": "code",
   "execution_count": null,
   "id": "76568e2a",
   "metadata": {},
   "outputs": [],
   "source": [
    "client"
   ]
  },
  {
   "cell_type": "code",
   "execution_count": null,
   "id": "b2dcac5d-bb40-4f3b-81e3-6f787fd7ec88",
   "metadata": {},
   "outputs": [],
   "source": [
    "cluster.scheduler"
   ]
  },
  {
   "cell_type": "markdown",
   "id": "74475a75-117e-46f4-ad0c-3866824de73c",
   "metadata": {},
   "source": [
    "cluster.get_logs()"
   ]
  },
  {
   "cell_type": "code",
   "execution_count": null,
   "id": "5de71092",
   "metadata": {},
   "outputs": [],
   "source": [
    "!which python"
   ]
  },
  {
   "cell_type": "code",
   "execution_count": null,
   "id": "bcc8141b",
   "metadata": {},
   "outputs": [],
   "source": [
    "!qstat"
   ]
  },
  {
   "cell_type": "code",
   "execution_count": null,
   "id": "2b47138c",
   "metadata": {},
   "outputs": [],
   "source": [
    "!pwd"
   ]
  },
  {
   "cell_type": "code",
   "execution_count": null,
   "id": "b9ca048c",
   "metadata": {},
   "outputs": [],
   "source": [
    "def slow_increment(x):\n",
    "    return x+1"
   ]
  },
  {
   "cell_type": "code",
   "execution_count": null,
   "id": "1a413b9e",
   "metadata": {},
   "outputs": [],
   "source": [
    "futures = client.submit(slow_increment, 5000)"
   ]
  },
  {
   "cell_type": "code",
   "execution_count": null,
   "id": "464b436a-1f7c-4d2d-b6ae-1776f2c100e0",
   "metadata": {},
   "outputs": [],
   "source": [
    "futures"
   ]
  },
  {
   "cell_type": "code",
   "execution_count": null,
   "id": "ff3f742e-4a34-486c-aa42-575dd7202901",
   "metadata": {},
   "outputs": [],
   "source": [
    "progress(futures)"
   ]
  },
  {
   "cell_type": "code",
   "execution_count": null,
   "id": "250c9693-d70a-4750-a422-8dcbbee1e9a1",
   "metadata": {},
   "outputs": [],
   "source": []
  },
  {
   "cell_type": "code",
   "execution_count": null,
   "id": "589950cf-af52-4fb5-b7da-6cfd428fc636",
   "metadata": {},
   "outputs": [],
   "source": []
  }
 ],
 "metadata": {
  "kernelspec": {
   "display_name": "Python 3 (ipykernel)",
   "language": "python",
   "name": "python3"
  },
  "language_info": {
   "codemirror_mode": {
    "name": "ipython",
    "version": 3
   },
   "file_extension": ".py",
   "mimetype": "text/x-python",
   "name": "python",
   "nbconvert_exporter": "python",
   "pygments_lexer": "ipython3",
   "version": "3.9.2"
  }
 },
 "nbformat": 4,
 "nbformat_minor": 5
}
