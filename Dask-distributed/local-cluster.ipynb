{
 "cells": [
  {
   "cell_type": "code",
   "execution_count": null,
   "id": "98776673-f8ed-4d72-9749-1ed5c36e7325",
   "metadata": {},
   "outputs": [],
   "source": [
    "from pprint import pprint\n",
    "\n",
    "import dask\n",
    "import dask.dataframe as dd\n",
    "\n",
    "ddf = dask.datasets.timeseries(partition_freq=\"6d\")\n",
    "ddf = ddf.assign(x=ddf.x**2)\n",
    "ddf"
   ]
  },
  {
   "cell_type": "code",
   "execution_count": null,
   "id": "67388a86-5c25-4c77-b3c8-c9876ac7a537",
   "metadata": {},
   "outputs": [],
   "source": [
    "from distributed import LocalCluster, Client\n",
    "cluster = LocalCluster()\n",
    "cluster"
   ]
  },
  {
   "cell_type": "code",
   "execution_count": null,
   "id": "70b33dc5-2357-4101-9268-10e7777c58d5",
   "metadata": {},
   "outputs": [],
   "source": [
    "client = Client(cluster)\n",
    "client"
   ]
  },
  {
   "cell_type": "code",
   "execution_count": null,
   "id": "5f147184-f72d-430d-b32d-028de4559538",
   "metadata": {},
   "outputs": [],
   "source": [
    "client.who_has()"
   ]
  },
  {
   "cell_type": "code",
   "execution_count": null,
   "id": "e580d9d5-553b-4d76-b90c-e65131907d26",
   "metadata": {},
   "outputs": [],
   "source": [
    "ddf.visualize()"
   ]
  },
  {
   "cell_type": "code",
   "execution_count": null,
   "id": "4049eac7-6eb6-497b-aaa3-2f849528fcf6",
   "metadata": {},
   "outputs": [],
   "source": [
    "client.get_versions(check=True)"
   ]
  },
  {
   "cell_type": "code",
   "execution_count": null,
   "id": "d4b691ce-131c-4b7a-8562-acdfb23f46de",
   "metadata": {},
   "outputs": [],
   "source": [
    "def slow_increment(x):\n",
    "    return x+1"
   ]
  },
  {
   "cell_type": "code",
   "execution_count": null,
   "id": "29417074-bc4e-4bd3-b25c-7aa95a089e96",
   "metadata": {},
   "outputs": [],
   "source": [
    "futures = client.submit(slow_increment, 5000)"
   ]
  },
  {
   "cell_type": "code",
   "execution_count": null,
   "id": "3f9a06f2-439b-49f1-af80-154cc7fdac44",
   "metadata": {},
   "outputs": [
    {
     "name": "stderr",
     "output_type": "stream",
     "text": [
      "/scratch/vp91/AAPP2023/dask-python3.9-venv/lib/python3.9/site-packages/distributed/scheduler.py:5711: UserWarning: Scheduler already contains a plugin with name websocket; overwriting.\n",
      "  warnings.warn(\n"
     ]
    }
   ],
   "source": [
    "futures"
   ]
  },
  {
   "cell_type": "code",
   "execution_count": null,
   "id": "f19a5b46-90ad-4623-b5bc-9418d8ffd3db",
   "metadata": {},
   "outputs": [],
   "source": []
  }
 ],
 "metadata": {
  "kernelspec": {
   "display_name": "Python 3 (ipykernel)",
   "language": "python",
   "name": "python3"
  },
  "language_info": {
   "codemirror_mode": {
    "name": "ipython",
    "version": 3
   },
   "file_extension": ".py",
   "mimetype": "text/x-python",
   "name": "python",
   "nbconvert_exporter": "python",
   "pygments_lexer": "ipython3",
   "version": "3.9.2"
  }
 },
 "nbformat": 4,
 "nbformat_minor": 5
}
